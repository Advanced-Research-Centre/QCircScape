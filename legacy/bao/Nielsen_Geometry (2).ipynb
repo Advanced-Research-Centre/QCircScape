{
 "cells": [
  {
   "cell_type": "code",
   "execution_count": 2,
   "id": "8213890b",
   "metadata": {},
   "outputs": [
    {
     "name": "stderr",
     "output_type": "stream",
     "text": [
      "C:\\Users\\DELL\\anaconda3\\lib\\site-packages\\numpy\\_distributor_init.py:30: UserWarning: loaded more than 1 DLL from .libs:\n",
      "C:\\Users\\DELL\\anaconda3\\lib\\site-packages\\numpy\\.libs\\libopenblas.jpijnswnnan3ce6lli5fwsphut2vxmth.gfortran-win_amd64.dll\n",
      "C:\\Users\\DELL\\anaconda3\\lib\\site-packages\\numpy\\.libs\\libopenblas.WCDJNK7YVMPZQ2ME2ZZHJJRJ3JIKNDB7.gfortran-win_amd64.dll\n",
      "  warnings.warn(\"loaded more than 1 DLL from .libs:\"\n"
     ]
    }
   ],
   "source": [
    "import itertools\n",
    "from pprint import pprint\n",
    "from qiskit import QuantumCircuit, Aer, execute\n",
    "backend = Aer.get_backend('qasm_simulator')  \n",
    "\n",
    "maxgc = 4\n",
    "gs = ['x','ccx']\n",
    "qbnos = 4\n",
    "qb = list(range(0,qbnos))"
   ]
  },
  {
   "cell_type": "code",
   "execution_count": 3,
   "id": "809a5ec0",
   "metadata": {},
   "outputs": [
    {
     "data": {
      "text/plain": [
       "[0, 1, 2, 3]"
      ]
     },
     "execution_count": 3,
     "metadata": {},
     "output_type": "execute_result"
    }
   ],
   "source": [
    "qb"
   ]
  },
  {
   "cell_type": "code",
   "execution_count": 4,
   "id": "694702a8",
   "metadata": {},
   "outputs": [],
   "source": [
    "def toStr(n,base):\n",
    "    '''\n",
    "    Convert a decimal number to base-n\n",
    "    '''\n",
    "    convertString = \"0123456789ABCDEF\"\n",
    "    if n < base:\n",
    "        return convertString[n]\n",
    "    else:\n",
    "        return toStr(n//base,base) + convertString[n%base]"
   ]
  },
  {
   "cell_type": "code",
   "execution_count": 5,
   "id": "73723ef6",
   "metadata": {},
   "outputs": [
    {
     "data": {
      "text/plain": [
       "'F'"
      ]
     },
     "execution_count": 5,
     "metadata": {},
     "output_type": "execute_result"
    }
   ],
   "source": [
    "toStr(15,16)"
   ]
  },
  {
   "cell_type": "code",
   "execution_count": 6,
   "id": "1c8d844b",
   "metadata": {},
   "outputs": [],
   "source": [
    "def X_choice(opcode):\n",
    "    c = list(itertools.combinations(qb, 1))\n",
    "    #print(c)\n",
    "    allc = []\n",
    "    for i in c:\n",
    "        allc.append(opcode+str(i[0]))\n",
    "    return allc"
   ]
  },
  {
   "cell_type": "code",
   "execution_count": 7,
   "id": "e13306fc",
   "metadata": {},
   "outputs": [],
   "source": [
    "def CCX_choice(opcode):\n",
    "    c = list(itertools.combinations(qb, 3))\n",
    "    allc = []\n",
    "    #print(c)\n",
    "    for i in c:\n",
    "        allc.append(opcode+str(i[0])+str(i[1])+str(i[2]))\n",
    "        allc.append(opcode+str(i[1])+str(i[2])+str(i[0]))\n",
    "        allc.append(opcode+str(i[2])+str(i[0])+str(i[1]))\n",
    "    return allc"
   ]
  },
  {
   "cell_type": "code",
   "execution_count": 8,
   "id": "7101737b",
   "metadata": {},
   "outputs": [],
   "source": [
    "setX = X_choice('0')\n",
    "setCCX = CCX_choice('1')"
   ]
  },
  {
   "cell_type": "code",
   "execution_count": 9,
   "id": "13054238",
   "metadata": {},
   "outputs": [
    {
     "data": {
      "text/plain": [
       "['00', '01', '02', '03']"
      ]
     },
     "execution_count": 9,
     "metadata": {},
     "output_type": "execute_result"
    }
   ],
   "source": [
    "setX"
   ]
  },
  {
   "cell_type": "code",
   "execution_count": 10,
   "id": "239a5cb9",
   "metadata": {},
   "outputs": [
    {
     "data": {
      "text/plain": [
       "['1012',\n",
       " '1120',\n",
       " '1201',\n",
       " '1013',\n",
       " '1130',\n",
       " '1301',\n",
       " '1023',\n",
       " '1230',\n",
       " '1302',\n",
       " '1123',\n",
       " '1231',\n",
       " '1312']"
      ]
     },
     "execution_count": 10,
     "metadata": {},
     "output_type": "execute_result"
    }
   ],
   "source": [
    "setCCX"
   ]
  },
  {
   "cell_type": "code",
   "execution_count": 11,
   "id": "de1a1e1a",
   "metadata": {},
   "outputs": [],
   "source": [
    "def progs(gc):\n",
    "    p = []\n",
    "    for i in range(0,len(gs)**gc):\n",
    "        gseq = toStr(i,len(gs)).zfill(gc)\n",
    "        #print(gseq)\n",
    "        cg = ['']          \n",
    "        for j in range(0, len(gseq)):\n",
    "            if gseq[j] == '0':\n",
    "                g = list(itertools.product(cg, setX))\n",
    "            if gseq[j] == '1':\n",
    "                g = list(itertools.product(cg, setCCX))\n",
    "            cg = []\n",
    "            for k in g:\n",
    "                cg.append(''.join(map(str, k)))\n",
    "        #print(gseq,': ',cg)\n",
    "        for j in cg:\n",
    "            p.append(j)\n",
    "    return p"
   ]
  },
  {
   "cell_type": "code",
   "execution_count": 12,
   "id": "eb2d3c20",
   "metadata": {
    "scrolled": true
   },
   "outputs": [
    {
     "ename": "NameError",
     "evalue": "name 'runQprog' is not defined",
     "output_type": "error",
     "traceback": [
      "\u001b[1;31m---------------------------------------------------------------------------\u001b[0m",
      "\u001b[1;31mNameError\u001b[0m                                 Traceback (most recent call last)",
      "\u001b[1;32m<ipython-input-12-8994bd8df779>\u001b[0m in \u001b[0;36m<module>\u001b[1;34m\u001b[0m\n\u001b[0;32m      3\u001b[0m     \u001b[0mp\u001b[0m \u001b[1;33m=\u001b[0m \u001b[0mprogs\u001b[0m\u001b[1;33m(\u001b[0m\u001b[0mgc\u001b[0m\u001b[1;33m)\u001b[0m\u001b[1;33m\u001b[0m\u001b[1;33m\u001b[0m\u001b[0m\n\u001b[0;32m      4\u001b[0m     \u001b[1;32mfor\u001b[0m \u001b[0mi\u001b[0m \u001b[1;32min\u001b[0m \u001b[0mp\u001b[0m\u001b[1;33m:\u001b[0m\u001b[1;33m\u001b[0m\u001b[1;33m\u001b[0m\u001b[0m\n\u001b[1;32m----> 5\u001b[1;33m         \u001b[0mop\u001b[0m \u001b[1;33m=\u001b[0m \u001b[0mrunQprog\u001b[0m\u001b[1;33m(\u001b[0m\u001b[0mi\u001b[0m\u001b[1;33m)\u001b[0m\u001b[1;33m\u001b[0m\u001b[1;33m\u001b[0m\u001b[0m\n\u001b[0m\u001b[0;32m      6\u001b[0m         \u001b[1;32mif\u001b[0m \u001b[0mop\u001b[0m \u001b[1;32min\u001b[0m \u001b[0mng\u001b[0m\u001b[1;33m:\u001b[0m\u001b[1;33m\u001b[0m\u001b[1;33m\u001b[0m\u001b[0m\n\u001b[0;32m      7\u001b[0m             \u001b[0mng\u001b[0m\u001b[1;33m[\u001b[0m\u001b[0mop\u001b[0m\u001b[1;33m]\u001b[0m\u001b[1;33m.\u001b[0m\u001b[0mappend\u001b[0m\u001b[1;33m(\u001b[0m\u001b[0mi\u001b[0m\u001b[1;33m)\u001b[0m\u001b[1;33m\u001b[0m\u001b[1;33m\u001b[0m\u001b[0m\n",
      "\u001b[1;31mNameError\u001b[0m: name 'runQprog' is not defined"
     ]
    }
   ],
   "source": [
    "ng = {}\n",
    "for gc in range(1,maxgc+1):\n",
    "    p = progs(gc)\n",
    "    for i in p:\n",
    "        op = runQprog(i)\n",
    "        if op in ng:\n",
    "            ng[op].append(i)\n",
    "        else:\n",
    "            ng[op] = [i]\n",
    "    print(\"nGC Level\",gc)\n",
    "    for key, value in sorted(ng.items()):\n",
    "        value.sort(key=len)\n",
    "        print(key, len(value),value[0],len(value[0]))"
   ]
  },
  {
   "cell_type": "code",
   "execution_count": null,
   "id": "9dc3b9af",
   "metadata": {},
   "outputs": [],
   "source": [
    "def state_construction(index,qc):\n",
    "    for i in range(4):\n",
    "        if(index[i]) == '1':\n",
    "            qc.x(i)"
   ]
  },
  {
   "cell_type": "code",
   "execution_count": null,
   "id": "320aadbe",
   "metadata": {},
   "outputs": [],
   "source": [
    "possible_states = list(itertools.product('01', repeat=4))\n",
    "possible_states"
   ]
  },
  {
   "cell_type": "code",
   "execution_count": null,
   "id": "123000a8",
   "metadata": {},
   "outputs": [],
   "source": [
    "def conv2QP(desc):\n",
    "    qc_list = []\n",
    "    for j in possible_states:\n",
    "        qcirc = QuantumCircuit(qbnos,qbnos)\n",
    "        state_construction(j,qcirc)\n",
    "        i = 0\n",
    "        while (i < len(desc)):\n",
    "            if desc[i]=='0':\n",
    "                # print('X',desc[i+1])\n",
    "                qcirc.x(int(desc[i+1]))\n",
    "                i+= 2\n",
    "            elif desc[i]=='1':\n",
    "                # print('CCX',desc[i+1],desc[i+2],desc[i+3])\n",
    "                qcirc.ccx(int(desc[i+1]),int(desc[i+2]),int(desc[i+3]))\n",
    "                i+= 4\n",
    "        qcirc.barrier()\n",
    "        for i in range(0,qbnos):\n",
    "            qcirc.measure(i,i)\n",
    "        qc_list.append(qcirc)\n",
    "    return qc_list"
   ]
  },
  {
   "cell_type": "code",
   "execution_count": null,
   "id": "00f6c778",
   "metadata": {},
   "outputs": [],
   "source": [
    "def runQprog(desc):\n",
    "    mem_result= []\n",
    "    qcirc = conv2QP(desc)\n",
    "    # print(desc)\n",
    "    # print(qcirc.draw())\n",
    "    for i in qcirc:\n",
    "        job = execute(i, backend, shots=1, memory=True)\n",
    "        result = job.result()\n",
    "        memory = result.get_memory()\n",
    "        mem_result.append(memory[0][::-1])\n",
    "    return mem_result"
   ]
  },
  {
   "cell_type": "code",
   "execution_count": null,
   "id": "8ff1a0a6",
   "metadata": {},
   "outputs": [],
   "source": [
    "runQprog('00')"
   ]
  },
  {
   "cell_type": "code",
   "execution_count": null,
   "id": "6a9f1927",
   "metadata": {
    "scrolled": true
   },
   "outputs": [],
   "source": [
    "gc = 1\n",
    "ng = {}\n",
    "p = progs(gc)\n",
    "for i in p:\n",
    "    op = runQprog(i)\n",
    "    ng[i] = op\n",
    "print(\"nGC Level\",gc)\n",
    "# for key, value in sorted(ng.items()):\n",
    "#     value.sort(key=len)\n",
    "#     print(key, len(value),value[0],len(value[0]))"
   ]
  },
  {
   "cell_type": "code",
   "execution_count": null,
   "id": "d16976ea",
   "metadata": {},
   "outputs": [],
   "source": [
    "one_gate = progs(1)"
   ]
  },
  {
   "cell_type": "code",
   "execution_count": null,
   "id": "b5cc3a8d",
   "metadata": {},
   "outputs": [],
   "source": [
    "l = []\n",
    "for i in (one_gate):\n",
    "    l.append(ng[i])"
   ]
  },
  {
   "cell_type": "code",
   "execution_count": null,
   "id": "8e810ee3",
   "metadata": {},
   "outputs": [],
   "source": [
    "l"
   ]
  },
  {
   "cell_type": "code",
   "execution_count": null,
   "id": "2b4db621",
   "metadata": {},
   "outputs": [],
   "source": [
    "import numpy as np"
   ]
  },
  {
   "cell_type": "code",
   "execution_count": null,
   "id": "fdedc045",
   "metadata": {},
   "outputs": [],
   "source": [
    "possible_states = ['0000',\n",
    "  '0001',\n",
    "  '0010',\n",
    "  '0011',\n",
    "  '0100',\n",
    "  '0101',\n",
    "  '0110',\n",
    "  '0111',\n",
    "  '1000',\n",
    "  '1001',\n",
    "  '1010',\n",
    "  '1011',\n",
    "  '1100',\n",
    "  '1101',\n",
    "  '1110',\n",
    "  '1111']"
   ]
  },
  {
   "cell_type": "code",
   "execution_count": null,
   "id": "3495bdc5",
   "metadata": {},
   "outputs": [],
   "source": [
    "# short circuits at shortest nested list if table is jagged:\n",
    "list(map(list, zip(*l)))\n",
    "\n",
    "# discards no data if jagged and fills short nested lists with None\n",
    "transpose_list = list(map(list, itertools.zip_longest(*l, fillvalue=None)))"
   ]
  },
  {
   "cell_type": "code",
   "execution_count": null,
   "id": "13dbabce",
   "metadata": {},
   "outputs": [],
   "source": [
    "all_first_layer_list={}\n",
    "for i in range(qbnos**2):\n",
    "    all_first_layer_list[possible_states[i]] = list(np.unique(transpose_list[i]))"
   ]
  },
  {
   "cell_type": "code",
   "execution_count": null,
   "id": "507ea26c",
   "metadata": {},
   "outputs": [],
   "source": [
    "all_first_layer_list"
   ]
  },
  {
   "cell_type": "code",
   "execution_count": null,
   "id": "fcd3fb19",
   "metadata": {},
   "outputs": [],
   "source": [
    "all_first_layer_list['0000']"
   ]
  },
  {
   "cell_type": "code",
   "execution_count": null,
   "id": "ebfb2251",
   "metadata": {},
   "outputs": [],
   "source": [
    "def create_adjacency_layer(state):\n",
    "    layer = 1\n",
    "    first_state_adjacency = {}\n",
    "    for i in possible_states:\n",
    "        first_state_adjacency[i] = 0\n",
    "    for i in all_first_layer_list[state]:\n",
    "        if((first_state_adjacency[i] == 0)):\n",
    "            first_state_adjacency[i] = 1\n",
    "    for j in possible_states:\n",
    "        if((first_state_adjacency[j] == 1) & (j != state)):\n",
    "            for k in all_first_layer_list[j]:\n",
    "                if(first_state_adjacency[k] == 0):\n",
    "                    first_state_adjacency[k] = 2\n",
    "    for j in possible_states:\n",
    "        if((first_state_adjacency[j] == 2) & (j != state)):\n",
    "            for k in all_first_layer_list[j]:\n",
    "                if(first_state_adjacency[k] == 0):\n",
    "                    first_state_adjacency[k] = 3\n",
    "    for j in possible_states:\n",
    "        if((first_state_adjacency[j] == 3) & (j != state)):\n",
    "            for k in all_first_layer_list[j]:\n",
    "                if(first_state_adjacency[k] == 0):\n",
    "                    first_state_adjacency[k] = 4\n",
    "    return first_state_adjacency"
   ]
  },
  {
   "cell_type": "code",
   "execution_count": null,
   "id": "cd08fd1d",
   "metadata": {},
   "outputs": [],
   "source": [
    "create_adjacency_layer('0000')"
   ]
  },
  {
   "cell_type": "code",
   "execution_count": null,
   "id": "494fbcaf",
   "metadata": {},
   "outputs": [],
   "source": [
    "adjancency_matrix = []\n",
    "for i in possible_states:\n",
    "    adjancency_matrix.append(create_adjacency_layer(i))"
   ]
  },
  {
   "cell_type": "code",
   "execution_count": null,
   "id": "38055a48",
   "metadata": {},
   "outputs": [],
   "source": [
    "adjancency_matrix[0]"
   ]
  },
  {
   "cell_type": "code",
   "execution_count": null,
   "id": "e65616a7",
   "metadata": {},
   "outputs": [],
   "source": []
  }
 ],
 "metadata": {
  "kernelspec": {
   "display_name": "Python 3",
   "language": "python",
   "name": "python3"
  },
  "language_info": {
   "codemirror_mode": {
    "name": "ipython",
    "version": 3
   },
   "file_extension": ".py",
   "mimetype": "text/x-python",
   "name": "python",
   "nbconvert_exporter": "python",
   "pygments_lexer": "ipython3",
   "version": "3.8.3"
  }
 },
 "nbformat": 4,
 "nbformat_minor": 5
}
